{
 "cells": [
  {
   "cell_type": "code",
   "execution_count": 1,
   "id": "399a00e6",
   "metadata": {},
   "outputs": [],
   "source": [
    "from collections import defaultdict\n",
    "\n",
    "class Graph:\n",
    "    def __init__(self, vertices):\n",
    "        # Number of vertices\n",
    "        self.V = vertices\n",
    "        # Default dictionary to store graph\n",
    "        self.graph = defaultdict(list)\n",
    "    \n",
    "    # Add an edge to the graph\n",
    "    def add_edge(self, u, v):\n",
    "        self.graph[u].append(v)\n",
    "    \n",
    "    # Recursive helper function for topological sort\n",
    "    def topological_sort_util(self, v, visited, stack):\n",
    "        # Mark the current node as visited\n",
    "        visited[v] = True\n",
    "        \n",
    "        # Recur for all adjacent vertices\n",
    "        for i in self.graph[v]:\n",
    "            if visited[i] == False:\n",
    "                self.topological_sort_util(i, visited, stack)\n",
    "        \n",
    "        # Push current vertex to stack which stores the result\n",
    "        stack.insert(0, v)\n",
    "    \n",
    "    # Topological sort function\n",
    "    def topological_sort(self):\n",
    "        # Mark all vertices as not visited\n",
    "        visited = [False] * self.V\n",
    "        stack = []\n",
    "        \n",
    "        # Call the recursive helper function for all vertices\n",
    "        for i in range(self.V):\n",
    "            if visited[i] == False:\n",
    "                self.topological_sort_util(i, visited, stack)\n",
    "        \n",
    "        return stack\n",
    "\n"
   ]
  },
  {
   "cell_type": "code",
   "execution_count": 2,
   "id": "f4f25d2d",
   "metadata": {},
   "outputs": [
    {
     "name": "stdout",
     "output_type": "stream",
     "text": [
      "[0, 1, 2]\n"
     ]
    }
   ],
   "source": [
    "# Example usage:\n",
    "\n",
    "# Create a graph with 3 nodes (LEGO pieces) with indices 0, 1, and 2.\n",
    "g = Graph(3)\n",
    "g.add_edge(0, 1)  # Place 1 after 0 (equivalent to LEGO B on top of LEGO A)\n",
    "g.add_edge(1, 2)  # Place 2 after 1 (equivalent to LEGO C on top of LEGO B)\n",
    "\n",
    "print(g.topological_sort())  # Expected output: [0, 1, 2]\n"
   ]
  },
  {
   "cell_type": "code",
   "execution_count": null,
   "id": "5aad73e1",
   "metadata": {},
   "outputs": [],
   "source": []
  }
 ],
 "metadata": {
  "kernelspec": {
   "display_name": "Python 3 (ipykernel)",
   "language": "python",
   "name": "python3"
  },
  "language_info": {
   "codemirror_mode": {
    "name": "ipython",
    "version": 3
   },
   "file_extension": ".py",
   "mimetype": "text/x-python",
   "name": "python",
   "nbconvert_exporter": "python",
   "pygments_lexer": "ipython3",
   "version": "3.9.13"
  }
 },
 "nbformat": 4,
 "nbformat_minor": 5
}
